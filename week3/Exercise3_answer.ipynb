{
  "nbformat": 4,
  "nbformat_minor": 0,
  "metadata": {
    "colab": {
      "name": "Exercise3_answer.ipynb",
      "provenance": []
    },
    "kernelspec": {
      "name": "python3",
      "display_name": "Python 3"
    }
  },
  "cells": [
    {
      "cell_type": "code",
      "metadata": {
        "id": "pjpufQliVl2G"
      },
      "source": [
        "import tensorflow as tf\r\n",
        "from os import path, getcwd, chdir\r\n",
        "\r\n",
        "# DO NOT CHANGE THE LINE BELOW. If you are developing in a local\r\n",
        "# environment, then grab mnist.npz from the Coursera Jupyter Notebook\r\n",
        "# and place it inside a local folder and edit the path to that location\r\n",
        "path = f\"{getcwd()}/../tmp2/mnist.npz\""
      ],
      "execution_count": 1,
      "outputs": []
    },
    {
      "cell_type": "code",
      "metadata": {
        "colab": {
          "base_uri": "https://localhost:8080/",
          "height": 196
        },
        "id": "iMzxy4n3Vz82",
        "outputId": "38a75264-9fda-47fa-bd96-57620790f5a6"
      },
      "source": [
        "config = tf.ConfigProto()\r\n",
        "config.gpu_options.allow_growth = True\r\n",
        "sess = tf.Session(config=config)"
      ],
      "execution_count": 2,
      "outputs": [
        {
          "output_type": "error",
          "ename": "AttributeError",
          "evalue": "ignored",
          "traceback": [
            "\u001b[0;31m---------------------------------------------------------------------------\u001b[0m",
            "\u001b[0;31mAttributeError\u001b[0m                            Traceback (most recent call last)",
            "\u001b[0;32m<ipython-input-2-c2279778370e>\u001b[0m in \u001b[0;36m<module>\u001b[0;34m()\u001b[0m\n\u001b[0;32m----> 1\u001b[0;31m \u001b[0mconfig\u001b[0m \u001b[0;34m=\u001b[0m \u001b[0mtf\u001b[0m\u001b[0;34m.\u001b[0m\u001b[0mConfigProto\u001b[0m\u001b[0;34m(\u001b[0m\u001b[0;34m)\u001b[0m\u001b[0;34m\u001b[0m\u001b[0;34m\u001b[0m\u001b[0m\n\u001b[0m\u001b[1;32m      2\u001b[0m \u001b[0mconfig\u001b[0m\u001b[0;34m.\u001b[0m\u001b[0mgpu_options\u001b[0m\u001b[0;34m.\u001b[0m\u001b[0mallow_growth\u001b[0m \u001b[0;34m=\u001b[0m \u001b[0;32mTrue\u001b[0m\u001b[0;34m\u001b[0m\u001b[0;34m\u001b[0m\u001b[0m\n\u001b[1;32m      3\u001b[0m \u001b[0msess\u001b[0m \u001b[0;34m=\u001b[0m \u001b[0mtf\u001b[0m\u001b[0;34m.\u001b[0m\u001b[0mSession\u001b[0m\u001b[0;34m(\u001b[0m\u001b[0mconfig\u001b[0m\u001b[0;34m=\u001b[0m\u001b[0mconfig\u001b[0m\u001b[0;34m)\u001b[0m\u001b[0;34m\u001b[0m\u001b[0;34m\u001b[0m\u001b[0m\n",
            "\u001b[0;31mAttributeError\u001b[0m: module 'tensorflow' has no attribute 'ConfigProto'"
          ]
        }
      ]
    },
    {
      "cell_type": "code",
      "metadata": {
        "id": "Ay1_BEZdV10W"
      },
      "source": [
        "# GRADED FUNCTION: train_mnist_conv\r\n",
        "def train_mnist_conv():\r\n",
        "    # Please write your code only where you are indicated.\r\n",
        "    # please do not remove model fitting inline comments.\r\n",
        "\r\n",
        "    class myCallback(tf.keras.callbacks.Callback):\r\n",
        "      def on_epoch_end(self, epoch, logs={}):\r\n",
        "        if(logs.get('acc')>0.998):\r\n",
        "          print(\"\\nReached 99.8% accuracy so cancelling training!\")\r\n",
        "          self.model.stop_training = True\r\n",
        "\r\n",
        "    mnist = tf.keras.datasets.mnist\r\n",
        "    (training_images, training_labels), (test_images, test_labels) = mnist.load_data(path=path)\r\n",
        "    training_images=training_images.reshape(60000, 28, 28, 1)\r\n",
        "    training_images=training_images / 255.0\r\n",
        "    test_images = test_images.reshape(10000, 28, 28, 1)\r\n",
        "    test_images=test_images/255.0\r\n",
        "    \r\n",
        "    callbacks = myCallback()\r\n",
        "\r\n",
        "    model = tf.keras.models.Sequential([\r\n",
        "      tf.keras.layers.Conv2D(64, (3,3), activation='relu', input_shape=(28, 28, 1)),\r\n",
        "      tf.keras.layers.MaxPooling2D(2, 2),\r\n",
        "      tf.keras.layers.Flatten(),\r\n",
        "      tf.keras.layers.Dense(128, activation='relu'),\r\n",
        "      tf.keras.layers.Dense(10, activation='softmax')\r\n",
        "    ])\r\n",
        "\r\n",
        "    model.compile(optimizer='adam', loss='sparse_categorical_crossentropy', metrics=['accuracy'])\r\n",
        "    # model fitting\r\n",
        "    history = model.fit(\r\n",
        "        training_images, training_labels, epochs=20, callbacks=[callbacks]\r\n",
        "    )\r\n",
        "    # model fitting\r\n",
        "    return history.epoch, history.history['acc'][-1]\r\n"
      ],
      "execution_count": 3,
      "outputs": []
    },
    {
      "cell_type": "code",
      "metadata": {
        "id": "06IE-pQgV5wm"
      },
      "source": [
        "_, _ = train_mnist_conv()"
      ],
      "execution_count": null,
      "outputs": []
    },
    {
      "cell_type": "code",
      "metadata": {
        "id": "3cObWc0MV-vs"
      },
      "source": [
        "# Now click the 'Submit Assignment' button above.\r\n",
        "# Once that is complete, please run the following two cells to save your work and close the notebook"
      ],
      "execution_count": null,
      "outputs": []
    },
    {
      "cell_type": "code",
      "metadata": {
        "id": "UOtx4pvbV_Rs"
      },
      "source": [
        "%%javascript\r\n",
        "<!-- Save the notebook -->\r\n",
        "IPython.notebook.save_checkpoint();"
      ],
      "execution_count": null,
      "outputs": []
    },
    {
      "cell_type": "code",
      "metadata": {
        "id": "2ZY7enHrWAne"
      },
      "source": [
        "%%javascript\r\n",
        "IPython.notebook.session.delete();\r\n",
        "window.onbeforeunload = null\r\n",
        "setTimeout(function() { window.close(); }, 1000);"
      ],
      "execution_count": null,
      "outputs": []
    }
  ]
}