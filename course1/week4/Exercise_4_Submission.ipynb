{
  "nbformat": 4,
  "nbformat_minor": 0,
  "metadata": {
    "colab": {
      "name": "Exercise_4_Submission.ipynb",
      "provenance": []
    },
    "kernelspec": {
      "name": "python3",
      "display_name": "Python 3"
    }
  },
  "cells": [
    {
      "cell_type": "code",
      "metadata": {
        "id": "nbyM0WapVVlQ"
      },
      "source": [
        "import tensorflow as tf\r\n",
        "import os\r\n",
        "import zipfile\r\n",
        "from os import path, getcwd, chdir\r\n",
        "\r\n",
        "# DO NOT CHANGE THE LINE BELOW. If you are developing in a local\r\n",
        "# environment, then grab happy-or-sad.zip from the Coursera Jupyter Notebook\r\n",
        "# and place it inside a local folder and edit the path to that location\r\n",
        "path = f\"{getcwd()}/../tmp2/happy-or-sad.zip\"\r\n",
        "\r\n",
        "zip_ref = zipfile.ZipFile(path, 'r')\r\n",
        "zip_ref.extractall(\"/tmp/h-or-s\")\r\n",
        "zip_ref.close()"
      ],
      "execution_count": null,
      "outputs": []
    },
    {
      "cell_type": "code",
      "metadata": {
        "id": "3HC2eHtUWFWI"
      },
      "source": [
        "# GRADED FUNCTION: train_happy_sad_model\r\n",
        "def train_happy_sad_model():\r\n",
        "    # Please write your code only where you are indicated.\r\n",
        "    # please do not remove # model fitting inline comments.\r\n",
        "\r\n",
        "    DESIRED_ACCURACY = 0.999\r\n",
        "\r\n",
        "    class myCallback(tf.keras.callbacks.Callback):\r\n",
        "      def on_epoch_end(self, epoch, logs={}):\r\n",
        "        if(logs.get('acc')>DESIRED_ACCURACY):\r\n",
        "          print(\"\\nReached 99.9% accuracy so cancelling training!\")\r\n",
        "          self.model.stop_training = True\r\n",
        "\r\n",
        "    callbacks = myCallback()\r\n",
        "    \r\n",
        "    # This Code Block should Define and Compile the Model. Please assume the images are 150 X 150 in your implementation.\r\n",
        "    model = tf.keras.models.Sequential([\r\n",
        "        tf.keras.layers.Conv2D(16, (3,3), activation='relu', input_shape=(150, 150, 3)),\r\n",
        "        tf.keras.layers.MaxPooling2D(2, 2),\r\n",
        "        # The second convolution\r\n",
        "        tf.keras.layers.Conv2D(32, (3,3), activation='relu'),\r\n",
        "        tf.keras.layers.MaxPooling2D(2,2),\r\n",
        "        # The third convolution\r\n",
        "        tf.keras.layers.Conv2D(64, (3,3), activation='relu'),\r\n",
        "        tf.keras.layers.MaxPooling2D(2,2),\r\n",
        "        # Flatten the results to feed into a DNN\r\n",
        "        tf.keras.layers.Flatten(),\r\n",
        "        # 512 neuron hidden layer\r\n",
        "        tf.keras.layers.Dense(512, activation='relu'),\r\n",
        "        # Only 1 output neuron. It will contain a value from 0-1 where 0 for 1 class ('horses') and 1 for the other ('humans')\r\n",
        "        tf.keras.layers.Dense(1, activation='sigmoid')\r\n",
        "    ])\r\n",
        "\r\n",
        "    from tensorflow.keras.optimizers import RMSprop\r\n",
        "\r\n",
        "    model.compile(loss='binary_crossentropy',\r\n",
        "              optimizer=RMSprop(lr=0.001),\r\n",
        "              metrics=['acc'])\r\n",
        "        \r\n",
        "\r\n",
        "    # This code block should create an instance of an ImageDataGenerator called train_datagen \r\n",
        "    # And a train_generator by calling train_datagen.flow_from_directory\r\n",
        "\r\n",
        "    from tensorflow.keras.preprocessing.image import ImageDataGenerator\r\n",
        "\r\n",
        "    train_datagen = ImageDataGenerator(rescale=1/255)\r\n",
        "    \r\n",
        "\r\n",
        "    # Please use a target_size of 150 X 150.\r\n",
        "    train_generator = train_datagen.flow_from_directory(\r\n",
        "        '/tmp/h-or-s',  \r\n",
        "        target_size=(150, 150),  \r\n",
        "        batch_size=128,\r\n",
        "        class_mode='binary')\r\n",
        "    # Expected output: 'Found 80 images belonging to 2 classes'\r\n",
        "\r\n",
        "    # This code block should call model.fit_generator and train for\r\n",
        "    # a number of epochs.\r\n",
        "    # model fitting\r\n",
        "    history = model.fit_generator(\r\n",
        "          train_generator,\r\n",
        "          steps_per_epoch=8,  \r\n",
        "          epochs=15,\r\n",
        "          verbose=1,\r\n",
        "          callbacks=[callbacks])\r\n",
        "    # model fitting\r\n",
        "    return history.history['acc'][-1]"
      ],
      "execution_count": null,
      "outputs": []
    },
    {
      "cell_type": "code",
      "metadata": {
        "id": "FG21h-YDWK4A"
      },
      "source": [
        "# The Expected output: \"Reached 99.9% accuracy so cancelling training!\"\"\r\n",
        "train_happy_sad_model()"
      ],
      "execution_count": null,
      "outputs": []
    },
    {
      "cell_type": "code",
      "metadata": {
        "id": "O9ZYqcz4WRRC"
      },
      "source": [
        "# Now click the 'Submit Assignment' button above.\r\n",
        "# Once that is complete, please run the following two cells to save your work and close the notebook"
      ],
      "execution_count": null,
      "outputs": []
    },
    {
      "cell_type": "code",
      "metadata": {
        "id": "XZJ3GumpWXRF"
      },
      "source": [
        "%%javascript\r\n",
        "<!-- Save the notebook -->\r\n",
        "IPython.notebook.save_checkpoint();"
      ],
      "execution_count": null,
      "outputs": []
    },
    {
      "cell_type": "code",
      "metadata": {
        "id": "GfaTGwnAWavN"
      },
      "source": [
        "%%javascript\r\n",
        "IPython.notebook.session.delete();\r\n",
        "window.onbeforeunload = null\r\n",
        "setTimeout(function() { window.close(); }, 1000);"
      ],
      "execution_count": null,
      "outputs": []
    }
  ]
}