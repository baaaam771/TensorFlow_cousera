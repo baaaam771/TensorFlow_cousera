
## Exercise 3
In the videos you looked at how you would improve Fashion MNIST using Convolutions. For your exercise see if you can improve MNIST to 99.8% accuracy or more using only a single convolutional layer and a single MaxPooling 2D. You should stop training once the accuracy goes above this amount. It should happen in less than 20 epochs, so it's ok to hard code the number of epochs for training, but your training must end once it hits the above metric. If it doesn't, then you'll need to redesign your layers.

I've started the code for you -- you need to finish it!

When 99.8% accuracy has been hit, you should print out the string "Reached 99.8% accuracy so cancelling training!"



```python
import tensorflow as tf
from os import path, getcwd, chdir

# DO NOT CHANGE THE LINE BELOW. If you are developing in a local
# environment, then grab mnist.npz from the Coursera Jupyter Notebook
# and place it inside a local folder and edit the path to that location
path = f"{getcwd()}/../tmp2/mnist.npz"
```


```python
config = tf.ConfigProto()
config.gpu_options.allow_growth = True
sess = tf.Session(config=config)
```


```python
# GRADED FUNCTION: train_mnist_conv
def train_mnist_conv():
    # Please write your code only where you are indicated.
    # please do not remove model fitting inline comments.

    class myCallback(tf.keras.callbacks.Callback):
      def on_epoch_end(self, epoch, logs={}):
        if(logs.get('acc')>0.998):
          print("\nReached 99.8% accuracy so cancelling training!")
          self.model.stop_training = True

    mnist = tf.keras.datasets.mnist
    (training_images, training_labels), (test_images, test_labels) = mnist.load_data(path=path)
    training_images=training_images.reshape(60000, 28, 28, 1)
    training_images=training_images / 255.0
    test_images = test_images.reshape(10000, 28, 28, 1)
    test_images=test_images/255.0
    
    callbacks = myCallback()

    model = tf.keras.models.Sequential([
      tf.keras.layers.Conv2D(64, (3,3), activation='relu', input_shape=(28, 28, 1)),
      tf.keras.layers.MaxPooling2D(2, 2),
      tf.keras.layers.Flatten(),
      tf.keras.layers.Dense(128, activation='relu'),
      tf.keras.layers.Dense(10, activation='softmax')
    ])

    model.compile(optimizer='adam', loss='sparse_categorical_crossentropy', metrics=['accuracy'])
    # model fitting
    history = model.fit(
        training_images, training_labels, epochs=20, callbacks=[callbacks]
    )
    # model fitting
    return history.epoch, history.history['acc'][-1]


```


```python
_, _ = train_mnist_conv()
```

    Epoch 1/20
    60000/60000 [==============================] - 15s 245us/sample - loss: 0.1397 - acc: 0.9587
    Epoch 2/20
    60000/60000 [==============================] - 14s 242us/sample - loss: 0.0494 - acc: 0.9849 - loss: 0.0495 - a
    Epoch 3/20
    60000/60000 [==============================] - 14s 237us/sample - loss: 0.0306 - acc: 0.9902
    Epoch 4/20
    60000/60000 [==============================] - 14s 230us/sample - loss: 0.0194 - acc: 0.9938 
    Epoch 5/20
    60000/60000 [==============================] - 14s 231us/sample - loss: 0.0139 - acc: 0.9955
    Epoch 6/20
    60000/60000 [==============================] - 14s 239us/sample - loss: 0.0105 - acc: 0.9968
    Epoch 7/20
    60000/60000 [==============================] - 14s 235us/sample - loss: 0.0075 - acc: 0.9976
    Epoch 8/20
    59616/60000 [============================>.] - ETA: 0s - loss: 0.0060 - acc: 0.9980
    Reached 99.8% accuracy so cancelling training!
    60000/60000 [==============================] - 14s 227us/sample - loss: 0.0060 - acc: 0.9980



```python
# Now click the 'Submit Assignment' button above.
# Once that is complete, please run the following two cells to save your work and close the notebook
```


```javascript
%%javascript
<!-- Save the notebook -->
IPython.notebook.save_checkpoint();
```


```javascript
%%javascript
IPython.notebook.session.delete();
window.onbeforeunload = null
setTimeout(function() { window.close(); }, 1000);
```


```python

```
